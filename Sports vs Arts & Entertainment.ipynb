{
 "cells": [
  {
   "cell_type": "code",
   "execution_count": 1,
   "metadata": {
    "collapsed": false
   },
   "outputs": [],
   "source": [
    "import pandas as pd\n",
    "import matplotlib.pyplot as plt\n",
    "import locale\n",
    "import re\n",
    "import seaborn as sns\n",
    "%matplotlib inline"
   ]
  },
  {
   "cell_type": "code",
   "execution_count": 2,
   "metadata": {
    "collapsed": false
   },
   "outputs": [],
   "source": [
    "respondent = pd.read_csv(\"atusresp_2013/atusresp_2013.dat\")\n",
    "weight = respondent[[\"TUCASEID\", \"TRSPPRES\", \"TUFINLWGT\"]]\n",
    "\n",
    "activity_sum = pd.read_csv(\"atussum_2013/atussum_2013.dat\")\n",
    "activity_sum = activity_sum.rename(columns = {\"tucaseid\": \"TUCASEID\"})\n",
    "\n",
    "roster = pd.read_csv(\"atusrost_2013/atusrost_2013.dat\")\n",
    "\n",
    "activity = pd.read_csv(\"atusact_2013/atusact_2013.dat\")\n",
    "\n",
    "needed_data = pd.merge(respondent, activity_sum, how=\"inner\", on=\"TUCASEID\")\n",
    "needed_data = pd.merge(needed_data, weight, how=\"inner\", on=\"TUCASEID\")"
   ]
  },
  {
   "cell_type": "markdown",
   "metadata": {},
   "source": [
    "In the above cell I am organizing the data which I may need into a single file so that I can easily access it all."
   ]
  },
  {
   "cell_type": "code",
   "execution_count": 3,
   "metadata": {
    "collapsed": false
   },
   "outputs": [],
   "source": [
    "needed_data = needed_data[needed_data[\"TRERNWA_y\"] != -1]\n",
    "needed_data['TRERNWA_y'] = needed_data.TRERNWA_y/100\n",
    "needed_data[\"earned_per_year\"] = needed_data.TRERNWA_y * 52"
   ]
  },
  {
   "cell_type": "markdown",
   "metadata": {},
   "source": [
    "In this cell I am doing three things. First I am getting rid of any person who did not put down their weekly salary, represented by a -1. Next I am dividing their weekly salary by 100 as in the manual it states that there is an implied decimal point there, and finaly I am multiplying the amount by 52 so as to get a yearly salary"
   ]
  },
  {
   "cell_type": "code",
   "execution_count": 4,
   "metadata": {
    "collapsed": false
   },
   "outputs": [],
   "source": [
    "ws = needed_data[[\"TUCASEID\", 'earned_per_year', \"TUFINLWGT_x\", 't130202', 't130203', 't130205', 't130206', 't130207', \n",
    "                  't130210', 't130213', 't130215', 't130216', 't130218', 't130219', 't130220', 't130221', \n",
    "                  't130222', 't130223', 't130224', 't130225', 't130226', 't130227', 't130229', 't130232']]\n",
    "ws = ws.rename(columns={\"TUCASEID\": \"ID\", \"TUFINLWGT_x\": \"weight\", 't130202': \"baseball\", 't130203': \"basketball\", \n",
    "                        't130205': \"billiards\", 't130206': \"boating\", 't130207': \"bowling\", \n",
    "                        't130210': \"equestrian\", 't130213': \"football\", 't130215': \"gymnastics\", 't130216': \"hockey\", \n",
    "                        't130218': \"racquet\", 't130219': \"rodeo\", 't130220': \"rollerblading\", 't130221': \"rugby\", \n",
    "                        't130222': \"running\", 't130223': \"winter_sports\", 't130224': \"soccer\", 't130225': \"softball\", \n",
    "                        't130226': \"racing\", 't130227': \"volleyball\", 't130229': \"water_sports\", \n",
    "                        't130232': \"wrestling\"})\n",
    "\n",
    "ae = needed_data[[\"TUCASEID\", \"earned_per_year\", \"TUFINLWGT_x\", \"t120401\", \"t120402\"]]\n",
    "ae = ae.rename(columns={\"TUCASEID\": \"ID\", \"TUFINLWGT_x\": \"weight\", \"t120401\": \"performing_arts\", \"t120402\": \"museums\"})"
   ]
  },
  {
   "cell_type": "markdown",
   "metadata": {},
   "source": [
    "In this cell I am taking out the data that I need. The first dataframe, named 'ws', is how much people watch sports. The second one, 'ae', is how much time people spent at a performing arts show or museum."
   ]
  },
  {
   "cell_type": "code",
   "execution_count": 5,
   "metadata": {
    "collapsed": false
   },
   "outputs": [],
   "source": [
    "ws[\"minutes_ws\"] = (ws.baseball+ws.basketball+ws.billiards+ws.boating+ws.bowling+ws.equestrian+ws.football+\n",
    "                               ws.gymnastics+ws.hockey+ws.racquet+ws.rodeo+ws.rollerblading+ws.rugby+ws.running+\n",
    "                               ws.winter_sports+ws.soccer+ws.softball+ws.racing+ws.volleyball+ws.water_sports+\n",
    "                               ws.wrestling)\n",
    "\n",
    "ae[\"minutes_ae\"] = (ae.performing_arts+ae.museums)"
   ]
  },
  {
   "cell_type": "markdown",
   "metadata": {},
   "source": [
    "Here I am adding together all of the time that people spend on these events as I don't want to see the individual events as much as I would want to see the total sum  of time"
   ]
  },
  {
   "cell_type": "code",
   "execution_count": 6,
   "metadata": {
    "collapsed": false
   },
   "outputs": [],
   "source": [
    "ws[\"weighted_minutes_ws\"] = ((ws.weight * ws.minutes_ws)/ws.weight.sum())\n",
    "ae[\"weighted_minutes_ae\"] = ((ae.weight * ae.minutes_ae)/ae.weight.sum())"
   ]
  },
  {
   "cell_type": "markdown",
   "metadata": {},
   "source": [
    "And here I am creating a new column that is the weighted minutes for each dataframe"
   ]
  },
  {
   "cell_type": "code",
   "execution_count": 7,
   "metadata": {
    "collapsed": false
   },
   "outputs": [],
   "source": [
    "ae = ae[[\"earned_per_year\", \"minutes_ae\", \"weighted_minutes_ae\"]]\n",
    "ws = ws[[\"earned_per_year\", \"minutes_ws\", \"weighted_minutes_ws\"]]\n",
    "ae = ae[ae.minutes_ae > 0]\n",
    "ws = ws[ws.minutes_ws > 0]"
   ]
  },
  {
   "cell_type": "markdown",
   "metadata": {},
   "source": [
    "This is simply clearing out the extraneous columns from the dataframes so that I can keep the information I need without too much clutter."
   ]
  },
  {
   "cell_type": "code",
   "execution_count": 8,
   "metadata": {
    "collapsed": false
   },
   "outputs": [
    {
     "name": "stderr",
     "output_type": "stream",
     "text": [
      "/Users/MatthewBarnette/iron_yard_hw/atus-analysis/.direnv/python-3.5.0/lib/python3.5/site-packages/matplotlib/collections.py:590: FutureWarning: elementwise comparison failed; returning scalar instead, but in the future will perform elementwise comparison\n",
      "  if self._edgecolors == str('face'):\n"
     ]
    },
    {
     "data": {
      "image/png": "[encoded data removed]",
      "text/plain": [
       "<matplotlib.figure.Figure at 0x11ec20128>"
      ]
     },
     "metadata": {},
     "output_type": "display_data"
    }
   ],
   "source": [
    "plt.scatter(ae['minutes_ae'], ae['earned_per_year'], color=\"red\")\n",
    "plt.scatter(ws['minutes_ws'], ws['earned_per_year'])\n",
    "plt.draw()"
   ]
  },
  {
   "cell_type": "markdown",
   "metadata": {},
   "source": [
    "This graph shows the minutes spent at performing arts, which are in red, vs the minutes spend watching sports, shown in blue. Interestingly, there does seem to be a trend towards people who have more money spending more time with performing arts, though there are a few exceptions to this trend."
   ]
  },
  {
   "cell_type": "code",
   "execution_count": 9,
   "metadata": {
    "collapsed": false
   },
   "outputs": [
    {
     "name": "stderr",
     "output_type": "stream",
     "text": [
      "/Users/MatthewBarnette/iron_yard_hw/atus-analysis/.direnv/python-3.5.0/lib/python3.5/site-packages/matplotlib/collections.py:590: FutureWarning: elementwise comparison failed; returning scalar instead, but in the future will perform elementwise comparison\n",
      "  if self._edgecolors == str('face'):\n"
     ]
    },
    {
     "data": {
      "image/png": "[encoded data removed]",
      "text/plain": [
       "<matplotlib.figure.Figure at 0x10ef18080>"
      ]
     },
     "metadata": {},
     "output_type": "display_data"
    }
   ],
   "source": [
    "plt.scatter(ae['weighted_minutes_ae'], ae['earned_per_year'], color=\"red\")\n",
    "plt.scatter(ws['weighted_minutes_ws'], ws['earned_per_year'])\n",
    "ylabel = \"salary per year\"\n",
    "xlabel = \"weighted minutes watched\"\n",
    "plt.show()"
   ]
  },
  {
   "cell_type": "markdown",
   "metadata": {},
   "source": [
    "With the above being said, this one is done with the weighted minutes, and here, it seems that money don't matter as much and that people do seem to watch sports more, though there are plenty of people, no matter what their salary is, who seem to enjoy both."
   ]
  }
 ],
 "metadata": {
  "kernelspec": {
   "display_name": "Python 3",
   "language": "python",
   "name": "python3"
  },
  "language_info": {
   "codemirror_mode": {
    "name": "ipython",
    "version": 3
   },
   "file_extension": ".py",
   "mimetype": "text/x-python",
   "name": "python",
   "nbconvert_exporter": "python",
   "pygments_lexer": "ipython3",
   "version": "3.5.0"
  }
 },
 "nbformat": 4,
 "nbformat_minor": 0
}
