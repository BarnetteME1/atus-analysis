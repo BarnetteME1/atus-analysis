{
 "cells": [
  {
   "cell_type": "code",
   "execution_count": 3,
   "metadata": {
    "collapsed": true
   },
   "outputs": [],
   "source": [
    "import pandas as pd\n",
    "import matplotlib.pyplot as plt\n",
    "import locale\n",
    "import re\n",
    "import seaborn as sns\n",
    "%matplotlib inline"
   ]
  },
  {
   "cell_type": "code",
   "execution_count": 4,
   "metadata": {
    "collapsed": true
   },
   "outputs": [],
   "source": [
    "def average_minutes(data, activity_code):\n",
    "    activity_col = \"{}\".format(activity_code)\n",
    "    data = data[['weight', activity_col]]\n",
    "    data = data.rename(columns={activity_col: \"minutes\"})\n",
    "    data['weighted_minutes'] = data.weight * data.minutes\n",
    "    return data.weighted_minutes.sum() / data.weight.sum()"
   ]
  },
  {
   "cell_type": "code",
   "execution_count": 5,
   "metadata": {
    "collapsed": true
   },
   "outputs": [],
   "source": [
    "respondent = pd.read_csv(\"atusresp_2013/atusresp_2013.dat\")\n",
    "weight = respondent[[\"TUCASEID\", \"TRSPPRES\", \"TUFINLWGT\"]]\n",
    "\n",
    "activity_sum = pd.read_csv(\"atussum_2013/atussum_2013.dat\")\n",
    "activity_sum = activity_sum.rename(columns = {\"tucaseid\": \"TUCASEID\"})\n",
    "\n",
    "roster = pd.read_csv(\"atusrost_2013/atusrost_2013.dat\")\n",
    "\n",
    "activity = pd.read_csv(\"atusact_2013/atusact_2013.dat\")\n",
    "\n",
    "needed_data = pd.merge(respondent, activity_sum, how=\"inner\", on=\"TUCASEID\")\n",
    "needed_data = pd.merge(needed_data, weight, how=\"inner\", on=\"TUCASEID\")"
   ]
  },
  {
   "cell_type": "code",
   "execution_count": 9,
   "metadata": {
    "collapsed": true
   },
   "outputs": [],
   "source": [
    "children = needed_data.TRHHCHILD == 1\n",
    "no_children = needed_data.TRHHCHILD == 2\n",
    "under18 = needed_data.TEAGE <= 18\n",
    "over18under65 = needed_data.TEAGE > 18, needed_data.TEAGE < 65\n",
    "over65 = needed_data.TEAGE >= 65\n",
    "married = needed_data.TRSPPRES == 1\n",
    "single = needed_data.TRSPPRES == 3\n",
    "male = needed_data.TESEX == 1\n",
    "female = needed_data.TESEX == 2"
   ]
  },
  {
   "cell_type": "code",
   "execution_count": 8,
   "metadata": {
    "collapsed": false
   },
   "outputs": [],
   "source": [
    "watching_sports = needed_data[[\"TUFINLWGT\", \"TESEX\", \"TRSPPRES\", \"TEAGE\", \"TRHHCHILD\",'t130205', 't130219', 't130222', 't130227', 't130229']]\n",
    "watching_sports = watching_sports.rename(columns={\"TUFINLWGT\": \"weight\", \"TESEX\": \"sex\", \"TRSPPRES\": \"marriage_status\", \"TEAGE\": \"age\", \"TRHHCHILD\":\"children\", 't130205': \"billiards\", 't130219': \"rodeo\", 't130222': \"running\", 't130227': \"volleyball\", 't130229': \"water_sports\"})\n",
    "\n",
    "billiards = watching_sports[watching_sports[\"billiards\"] > 0]\n",
    "billiards = billiards[[\"weight\", \"sex\", \"marriage_status\", \"age\", \"children\", \"billiards\"]]\n",
    "\n",
    "rodeo = watching_sports[watching_sports[\"rodeo\"] > 0]\n",
    "rodeo = rodeo[[\"weight\", \"sex\", \"marriage_status\", \"age\", \"children\", \"rodeo\"]]\n",
    "\n",
    "running = watching_sports[watching_sports[\"running\"] > 0]\n",
    "running = running[[\"weight\", \"sex\", \"marriage_status\", \"age\", \"children\", \"running\"]]\n",
    "\n",
    "volleyball = watching_sports[watching_sports[\"volleyball\"] > 0]\n",
    "volleyball = volleyball[[\"weight\", \"sex\", \"marriage_status\", \"age\", \"children\", \"volleyball\"]]\n",
    "\n",
    "water_sports = watching_sports[watching_sports[\"water_sports\"] > 0]\n",
    "water_sports = water_sports[[\"weight\", \"sex\", \"marriage_status\", \"age\", \"children\", \"water_sports\"]]"
   ]
  },
  {
   "cell_type": "code",
   "execution_count": null,
   "metadata": {
    "collapsed": true
   },
   "outputs": [],
   "source": [
    "sports_list = [baseball, basketball, billiards, boating, bowling, equestrian, football, gymnastics, hockey, racquet, rodeo, rollerblading, rugby, running, winter_sports, soccer, softball, racing, volleyball, water_sports, wrestling]\n",
    "sports_list_cat = [\"baseball\", \"basketball\", \"billiards\", \"boating\", \"bowling\", \"equestrian\", \"football\", \"gymnastics\", \"hockey\", \"racquet\", \"rodeo\", \"rollerblading\", \"rugby\", \"running\", \"winter_sports\", \"soccer\", \"softball\", \"racing\", \"volleyball\", \"water_sports\", \"wrestling\"]\n",
    "\n",
    "average_time = []\n",
    "for num in range(len(sports_list)):\n",
    "    average_time.append(average_minutes(sports_list[num], sports_list_cat[num]))\n",
    "    \n",
    "sports_dict = zip(sports_list_cat, average_time)\n",
    "sports_dict = dict(sports_dict)\n",
    "sports_dict\n",
    "\n",
    "sportsdf = pd.Series(sports_dict, name=\"average_min_watched\")\n",
    "sportsdf.index.name = \"sport\"\n",
    "sportsdf = sportsdf.reset_index()\n",
    "sportsdf.index = sportsdf.pop(\"sport\")"
   ]
  },
  {
   "cell_type": "code",
   "execution_count": null,
   "metadata": {
    "collapsed": true
   },
   "outputs": [],
   "source": []
  }
 ],
 "metadata": {
  "kernelspec": {
   "display_name": "Python 3",
   "language": "python",
   "name": "python3"
  },
  "language_info": {
   "codemirror_mode": {
    "name": "ipython",
    "version": 3
   },
   "file_extension": ".py",
   "mimetype": "text/x-python",
   "name": "python",
   "nbconvert_exporter": "python",
   "pygments_lexer": "ipython3",
   "version": "3.5.0"
  }
 },
 "nbformat": 4,
 "nbformat_minor": 0
}
