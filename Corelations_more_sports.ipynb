{
 "cells": [
  {
   "cell_type": "code",
   "execution_count": 1,
   "metadata": {
    "collapsed": true
   },
   "outputs": [],
   "source": [
    "import pandas as pd\n",
    "import matplotlib.pyplot as plt\n",
    "import locale\n",
    "import re\n",
    "import seaborn as sns\n",
    "%matplotlib inline"
   ]
  },
  {
   "cell_type": "code",
   "execution_count": 2,
   "metadata": {
    "collapsed": true
   },
   "outputs": [],
   "source": [
    "def average_minutes(data, activity_code):\n",
    "    activity_col = \"{}\".format(activity_code)\n",
    "    data = data[['weight', activity_col]]\n",
    "    data = data.rename(columns={activity_col: \"minutes\"})\n",
    "    data['weighted_minutes'] = data.weight * data.minutes\n",
    "    return data.weighted_minutes.sum() / data.weight.sum()"
   ]
  },
  {
   "cell_type": "code",
   "execution_count": 3,
   "metadata": {
    "collapsed": false
   },
   "outputs": [],
   "source": [
    "respondent = pd.read_csv(\"atusresp_2013/atusresp_2013.dat\")\n",
    "weight = respondent[[\"TUCASEID\", \"TRSPPRES\", \"TUFINLWGT\", \"TULINENO\"]]\n",
    "\n",
    "activity_sum = pd.read_csv(\"atussum_2013/atussum_2013.dat\")\n",
    "activity_sum = activity_sum.rename(columns = {\"tucaseid\": \"TUCASEID\"})\n",
    "\n",
    "marital_status = pd.read_csv(\"atuscps_2013/atuscps_2013.dat\")\n",
    "marital_status = marital_status[[\"TUCASEID\",\"TULINENO\", \"PEMARITL\"]]\n",
    "\n",
    "roster = pd.read_csv(\"atusrost_2013/atusrost_2013.dat\")\n",
    "\n",
    "activity = pd.read_csv(\"atusact_2013/atusact_2013.dat\")\n",
    "\n",
    "needed_data = pd.merge(respondent, activity_sum, how=\"inner\", on=\"TUCASEID\")\n",
    "needed_data = pd.merge(needed_data, roster, how=\"inner\", on=[\"TUCASEID\", \"TULINENO\"])\n",
    "needed_data = pd.merge(needed_data, marital_status, how=\"inner\", on=[\"TUCASEID\", \"TULINENO\"])"
   ]
  },
  {
   "cell_type": "code",
   "execution_count": 4,
   "metadata": {
    "collapsed": false
   },
   "outputs": [],
   "source": [
    "under18 = needed_data.TEAGE_x <= 18\n",
    "over18 = needed_data.TEAGE_x > 18\n",
    "under65 = needed_data.TEAGE_x < 65\n",
    "over65 = needed_data.TEAGE_x >= 65\n",
    "male = needed_data.TESEX_x == 1\n",
    "female = needed_data.TESEX_x == 2"
   ]
  },
  {
   "cell_type": "code",
   "execution_count": 5,
   "metadata": {
    "collapsed": false
   },
   "outputs": [],
   "source": [
    "watching_sports = needed_data[[\"TUFINLWGT_x\", \"TESEX_x\", \"PEMARITL\", \"TEAGE_x\", \"TRHHCHILD\",  't130202', 't130203', 't130205', 't130206', 't130207', 't130210', 't130213', 't130215', 't130216', 't130218', 't130219', 't130220', 't130221', 't130222', 't130223', 't130224', 't130225', 't130226', 't130227', 't130229', 't130232']]\n",
    "watching_sports = watching_sports.rename(columns={\"TUFINLWGT_x\": \"weight\", \n",
    "                                                  \"TESEX_x\": \"sex\", \"PEMARITL\": \"marriage_status\", \"TEAGE_x\": \"age\", \n",
    "                                                  \"TRHHCHILD\":\"children\", 't130202': \"baseball\", 't130203': \"basketball\", 't130205': \"billiards\", 't130206': \"boating\", 't130207': \"bowling\", 't130210': \"equestrian\", 't130213': \"football\", 't130215': \"gymnastics\", 't130216': \"hockey\", 't130218': \"racquet\", 't130219': \"rodeo\", 't130220': \"rollerblading\", 't130221': \"rugby\", 't130222': \"running\", 't130223': \"winter_sports\", 't130224': \"soccer\", 't130225': \"softball\", 't130226': \"racing\", 't130227': \"volleyball\", 't130229': \"water_sports\", 't130232': \"wrestling\"})\n",
    "\n",
    "sports_name = [\"baseball\", \"basketball\", \"billiards\", \"boating\", \"bowling\", \"equestrian\", \"football\", \"gymnastics\", \"hockey\", \"racquet\", \"rodeo\", \"rollerblading\", \"rugby\", \"running\", \"winter_sports\", \"soccer\", \"softball\", \"racing\", \"volleyball\", \"water_sports\", \"wrestling\"]"
   ]
  },
  {
   "cell_type": "code",
   "execution_count": 6,
   "metadata": {
    "collapsed": false
   },
   "outputs": [],
   "source": [
    "for num in range(len(sports_name)):\n",
    "    watching_sports[\"weighted_time_\" + sports_name[num]] = watching_sports.weight * watching_sports[sports_name[num]]\n",
    "    \n",
    "watching_sports_wt = watching_sports[['weighted_time_baseball', 'weighted_time_basketball',\n",
    "                                   'weighted_time_billiards', 'weighted_time_boating',\n",
    "                                   'weighted_time_bowling', 'weighted_time_equestrian',\n",
    "                                   'weighted_time_football', 'weighted_time_gymnastics',\n",
    "                                   'weighted_time_hockey', 'weighted_time_racquet',\n",
    "                                   'weighted_time_rodeo', 'weighted_time_rollerblading',\n",
    "                                   'weighted_time_rugby', 'weighted_time_running',\n",
    "                                   'weighted_time_winter_sports', 'weighted_time_soccer',\n",
    "                                   'weighted_time_softball', 'weighted_time_racing',\n",
    "                                   'weighted_time_volleyball', 'weighted_time_water_sports',\n",
    "                                   'weighted_time_wrestling']]\n",
    "\n",
    "watching_sports_wtsum = watching_sports_wt.sum()\n",
    "\n",
    "watching_sports_wtsum = pd.DataFrame(watching_sports_wtsum, columns = [\"weighted_time\"])\n",
    "\n",
    "watching_sports_wtsum = (watching_sports_wtsum.weighted_time / watching_sports.weight.sum())"
   ]
  },
  {
   "cell_type": "code",
   "execution_count": 7,
   "metadata": {
    "collapsed": false
   },
   "outputs": [],
   "source": [
    "watching_sports_wtsum = pd.DataFrame(watching_sports_wtsum)"
   ]
  },
  {
   "cell_type": "code",
   "execution_count": 8,
   "metadata": {
    "collapsed": false
   },
   "outputs": [],
   "source": [
    "men_under18 = watching_sports[male & under18]\n",
    "men_working = watching_sports[male & over18 & under65]\n",
    "men_retired = watching_sports[male & over65]\n",
    "women_under18 = watching_sports[female & under18]\n",
    "women_working = watching_sports[female & over18 & under65]\n",
    "women_retired = watching_sports[female & over65]"
   ]
  },
  {
   "cell_type": "code",
   "execution_count": 9,
   "metadata": {
    "collapsed": false
   },
   "outputs": [
    {
     "name": "stderr",
     "output_type": "stream",
     "text": [
      "/Users/MatthewBarnette/iron_yard_hw/atus-analysis/.direnv/python-3.5.0/lib/python3.5/site-packages/ipykernel/__main__.py:2: SettingWithCopyWarning: \n",
      "A value is trying to be set on a copy of a slice from a DataFrame.\n",
      "Try using .loc[row_indexer,col_indexer] = value instead\n",
      "\n",
      "See the the caveats in the documentation: http://pandas.pydata.org/pandas-docs/stable/indexing.html#indexing-view-versus-copy\n",
      "  from ipykernel import kernelapp as app\n",
      "/Users/MatthewBarnette/iron_yard_hw/atus-analysis/.direnv/python-3.5.0/lib/python3.5/site-packages/ipykernel/__main__.py:26: SettingWithCopyWarning: \n",
      "A value is trying to be set on a copy of a slice from a DataFrame.\n",
      "Try using .loc[row_indexer,col_indexer] = value instead\n",
      "\n",
      "See the the caveats in the documentation: http://pandas.pydata.org/pandas-docs/stable/indexing.html#indexing-view-versus-copy\n",
      "/Users/MatthewBarnette/iron_yard_hw/atus-analysis/.direnv/python-3.5.0/lib/python3.5/site-packages/ipykernel/__main__.py:50: SettingWithCopyWarning: \n",
      "A value is trying to be set on a copy of a slice from a DataFrame.\n",
      "Try using .loc[row_indexer,col_indexer] = value instead\n",
      "\n",
      "See the the caveats in the documentation: http://pandas.pydata.org/pandas-docs/stable/indexing.html#indexing-view-versus-copy\n",
      "/Users/MatthewBarnette/iron_yard_hw/atus-analysis/.direnv/python-3.5.0/lib/python3.5/site-packages/ipykernel/__main__.py:74: SettingWithCopyWarning: \n",
      "A value is trying to be set on a copy of a slice from a DataFrame.\n",
      "Try using .loc[row_indexer,col_indexer] = value instead\n",
      "\n",
      "See the the caveats in the documentation: http://pandas.pydata.org/pandas-docs/stable/indexing.html#indexing-view-versus-copy\n",
      "/Users/MatthewBarnette/iron_yard_hw/atus-analysis/.direnv/python-3.5.0/lib/python3.5/site-packages/ipykernel/__main__.py:98: SettingWithCopyWarning: \n",
      "A value is trying to be set on a copy of a slice from a DataFrame.\n",
      "Try using .loc[row_indexer,col_indexer] = value instead\n",
      "\n",
      "See the the caveats in the documentation: http://pandas.pydata.org/pandas-docs/stable/indexing.html#indexing-view-versus-copy\n",
      "/Users/MatthewBarnette/iron_yard_hw/atus-analysis/.direnv/python-3.5.0/lib/python3.5/site-packages/ipykernel/__main__.py:121: SettingWithCopyWarning: \n",
      "A value is trying to be set on a copy of a slice from a DataFrame.\n",
      "Try using .loc[row_indexer,col_indexer] = value instead\n",
      "\n",
      "See the the caveats in the documentation: http://pandas.pydata.org/pandas-docs/stable/indexing.html#indexing-view-versus-copy\n"
     ]
    }
   ],
   "source": [
    "for num in range(len(sports_name)):\n",
    "    men_under18[\"weighted_time_\" + sports_name[num]] = men_under18.weight * men_under18[sports_name[num]]\n",
    "    \n",
    "men_under18_wt = men_under18[['weighted_time_baseball', 'weighted_time_basketball',\n",
    "                           'weighted_time_billiards', 'weighted_time_boating',\n",
    "                           'weighted_time_bowling', 'weighted_time_equestrian',\n",
    "                           'weighted_time_football', 'weighted_time_gymnastics',\n",
    "                           'weighted_time_hockey', 'weighted_time_racquet',\n",
    "                           'weighted_time_rodeo', 'weighted_time_rollerblading',\n",
    "                           'weighted_time_rugby', 'weighted_time_running',\n",
    "                           'weighted_time_winter_sports', 'weighted_time_soccer',\n",
    "                           'weighted_time_softball', 'weighted_time_racing',\n",
    "                           'weighted_time_volleyball', 'weighted_time_water_sports',\n",
    "                           'weighted_time_wrestling']]\n",
    "\n",
    "men_under18_wtsum = men_under18_wt.sum()\n",
    "\n",
    "men_under18_wtsum = pd.DataFrame(men_under18_wtsum, columns = [\"men\"])\n",
    "\n",
    "men_under18_wtsum = (men_under18_wtsum.men / watching_sports.weight.sum())\n",
    "\n",
    "men_under18_wtsum = pd.DataFrame(men_under18_wtsum)\n",
    "\n",
    "\n",
    "for num in range(len(sports_name)):\n",
    "    women_under18[\"weighted_time_\" + sports_name[num]] = women_under18.weight * women_under18[sports_name[num]]\n",
    "    \n",
    "women_under18_wt = women_under18[['weighted_time_baseball', 'weighted_time_basketball',\n",
    "                               'weighted_time_billiards', 'weighted_time_boating',\n",
    "                               'weighted_time_bowling', 'weighted_time_equestrian',\n",
    "                               'weighted_time_football', 'weighted_time_gymnastics',\n",
    "                               'weighted_time_hockey', 'weighted_time_racquet',\n",
    "                               'weighted_time_rodeo', 'weighted_time_rollerblading',\n",
    "                               'weighted_time_rugby', 'weighted_time_running',\n",
    "                               'weighted_time_winter_sports', 'weighted_time_soccer',\n",
    "                               'weighted_time_softball', 'weighted_time_racing',\n",
    "                               'weighted_time_volleyball', 'weighted_time_water_sports',\n",
    "                               'weighted_time_wrestling']]\n",
    "\n",
    "women_under18_wtsum = women_under18_wt.sum()\n",
    "\n",
    "women_under18_wtsum = pd.DataFrame(women_under18_wtsum, columns = [\"women\"])\n",
    "\n",
    "women_under18_wtsum = (women_under18_wtsum.women / watching_sports.weight.sum())\n",
    "\n",
    "women_under18_wtsum = pd.DataFrame(women_under18_wtsum)\n",
    "\n",
    "\n",
    "for num in range(len(sports_name)):\n",
    "    men_working[\"weighted_time_\" + sports_name[num]] = men_working.weight * men_working[sports_name[num]]\n",
    "    \n",
    "men_working_wt = men_working[['weighted_time_baseball', 'weighted_time_basketball',\n",
    "                           'weighted_time_billiards', 'weighted_time_boating',\n",
    "                           'weighted_time_bowling', 'weighted_time_equestrian',\n",
    "                           'weighted_time_football', 'weighted_time_gymnastics',\n",
    "                           'weighted_time_hockey', 'weighted_time_racquet',\n",
    "                           'weighted_time_rodeo', 'weighted_time_rollerblading',\n",
    "                           'weighted_time_rugby', 'weighted_time_running',\n",
    "                           'weighted_time_winter_sports', 'weighted_time_soccer',\n",
    "                           'weighted_time_softball', 'weighted_time_racing',\n",
    "                           'weighted_time_volleyball', 'weighted_time_water_sports',\n",
    "                           'weighted_time_wrestling']]\n",
    "\n",
    "men_working_wtsum = men_working_wt.sum()\n",
    "\n",
    "men_working_wtsum = pd.DataFrame(men_working_wtsum, columns = [\"men\"])\n",
    "\n",
    "men_working_wtsum = (men_working_wtsum.men / watching_sports.weight.sum())\n",
    "\n",
    "men_working_wtsum = pd.DataFrame(men_working_wtsum)\n",
    "\n",
    "\n",
    "for num in range(len(sports_name)):\n",
    "    women_working[\"weighted_time_\" + sports_name[num]] = women_working.weight * women_working[sports_name[num]]\n",
    "    \n",
    "women_working_wt = women_working[['weighted_time_baseball', 'weighted_time_basketball',\n",
    "                               'weighted_time_billiards', 'weighted_time_boating',\n",
    "                               'weighted_time_bowling', 'weighted_time_equestrian',\n",
    "                               'weighted_time_football', 'weighted_time_gymnastics',\n",
    "                               'weighted_time_hockey', 'weighted_time_racquet',\n",
    "                               'weighted_time_rodeo', 'weighted_time_rollerblading',\n",
    "                               'weighted_time_rugby', 'weighted_time_running',\n",
    "                               'weighted_time_winter_sports', 'weighted_time_soccer',\n",
    "                               'weighted_time_softball', 'weighted_time_racing',\n",
    "                               'weighted_time_volleyball', 'weighted_time_water_sports',\n",
    "                               'weighted_time_wrestling']]\n",
    "\n",
    "women_working_wtsum = women_working_wt.sum()\n",
    "\n",
    "women_working_wtsum = pd.DataFrame(women_working_wtsum, columns = [\"women\"])\n",
    "\n",
    "women_working_wtsum = (women_working_wtsum.women / watching_sports.weight.sum())\n",
    "\n",
    "women_working_wtsum = pd.DataFrame(women_working_wtsum)\n",
    "\n",
    "\n",
    "for num in range(len(sports_name)):\n",
    "    men_retired[\"weighted_time_\" + sports_name[num]] = men_retired.weight * men_retired[sports_name[num]]\n",
    "    \n",
    "men_retired_wt = men_retired[['weighted_time_baseball', 'weighted_time_basketball',\n",
    "                           'weighted_time_billiards', 'weighted_time_boating',\n",
    "                           'weighted_time_bowling', 'weighted_time_equestrian',\n",
    "                           'weighted_time_football', 'weighted_time_gymnastics',\n",
    "                           'weighted_time_hockey', 'weighted_time_racquet',\n",
    "                           'weighted_time_rodeo', 'weighted_time_rollerblading',\n",
    "                           'weighted_time_rugby', 'weighted_time_running',\n",
    "                           'weighted_time_winter_sports', 'weighted_time_soccer',\n",
    "                           'weighted_time_softball', 'weighted_time_racing',\n",
    "                           'weighted_time_volleyball', 'weighted_time_water_sports',\n",
    "                           'weighted_time_wrestling']]\n",
    "\n",
    "men_retired_wtsum = men_retired_wt.sum()\n",
    "\n",
    "men_retired_wtsum = pd.DataFrame(men_retired_wtsum, columns = [\"men\"])\n",
    "\n",
    "men_retired_wtsum = (men_retired_wtsum.men / watching_sports.weight.sum())\n",
    "\n",
    "men_retired_wtsum = pd.DataFrame(men_retired_wtsum)\n",
    "\n",
    "for num in range(len(sports_name)):\n",
    "    women_retired[\"weighted_time_\" + sports_name[num]] = women_retired.weight * women_retired[sports_name[num]]\n",
    "    \n",
    "women_retired_wt = women_retired[['weighted_time_baseball', 'weighted_time_basketball',\n",
    "                               'weighted_time_billiards', 'weighted_time_boating',\n",
    "                               'weighted_time_bowling', 'weighted_time_equestrian',\n",
    "                               'weighted_time_football', 'weighted_time_gymnastics',\n",
    "                               'weighted_time_hockey', 'weighted_time_racquet',\n",
    "                               'weighted_time_rodeo', 'weighted_time_rollerblading',\n",
    "                               'weighted_time_rugby', 'weighted_time_running',\n",
    "                               'weighted_time_winter_sports', 'weighted_time_soccer',\n",
    "                               'weighted_time_softball', 'weighted_time_racing',\n",
    "                               'weighted_time_volleyball', 'weighted_time_water_sports',\n",
    "                               'weighted_time_wrestling']]\n",
    "\n",
    "women_retired_wtsum = women_retired_wt.sum()\n",
    "\n",
    "women_retired_wtsum = pd.DataFrame(women_retired_wtsum, columns = [\"women\"])\n",
    "\n",
    "women_retired_wtsum = (women_retired_wtsum.women / watching_sports.weight.sum())\n",
    "\n",
    "women_retired_wtsum = pd.DataFrame(women_retired_wtsum)"
   ]
  },
  {
   "cell_type": "code",
   "execution_count": 10,
   "metadata": {
    "collapsed": false
   },
   "outputs": [],
   "source": [
    "under_18 = women_under18_wtsum.join(men_under18_wtsum)"
   ]
  },
  {
   "cell_type": "code",
   "execution_count": 11,
   "metadata": {
    "collapsed": true
   },
   "outputs": [],
   "source": [
    "working = women_working_wtsum.join(men_working_wtsum)"
   ]
  },
  {
   "cell_type": "code",
   "execution_count": 12,
   "metadata": {
    "collapsed": false
   },
   "outputs": [],
   "source": [
    "retired = women_retired_wtsum.join(men_retired_wtsum)"
   ]
  },
  {
   "cell_type": "code",
   "execution_count": 13,
   "metadata": {
    "collapsed": false
   },
   "outputs": [
    {
     "data": {
      "text/plain": [
       "<matplotlib.axes._subplots.AxesSubplot at 0x1111cd128>"
      ]
     },
     "execution_count": 13,
     "metadata": {},
     "output_type": "execute_result"
    },
    {
     "data": {
      "image/png": "[encoded data removed]",
      "text/plain": [
       "<matplotlib.figure.Figure at 0x1110b75f8>"
      ]
     },
     "metadata": {},
     "output_type": "display_data"
    }
   ],
   "source": [
    "under_18.plot(kind=\"bar\")"
   ]
  },
  {
   "cell_type": "code",
   "execution_count": 14,
   "metadata": {
    "collapsed": false
   },
   "outputs": [
    {
     "data": {
      "text/plain": [
       "<matplotlib.axes._subplots.AxesSubplot at 0x11156aef0>"
      ]
     },
     "execution_count": 14,
     "metadata": {},
     "output_type": "execute_result"
    },
    {
     "data": {
      "image/png": "[encoded data removed]",
      "text/plain": [
       "<matplotlib.figure.Figure at 0x111528ef0>"
      ]
     },
     "metadata": {},
     "output_type": "display_data"
    }
   ],
   "source": [
    "working.plot(kind=\"bar\")"
   ]
  },
  {
   "cell_type": "code",
   "execution_count": 15,
   "metadata": {
    "collapsed": false
   },
   "outputs": [
    {
     "data": {
      "text/plain": [
       "<matplotlib.axes._subplots.AxesSubplot at 0x114385358>"
      ]
     },
     "execution_count": 15,
     "metadata": {},
     "output_type": "execute_result"
    },
    {
     "data": {
      "image/png": "[encoded data removed]",
      "text/plain": [
       "<matplotlib.figure.Figure at 0x114390c50>"
      ]
     },
     "metadata": {},
     "output_type": "display_data"
    }
   ],
   "source": [
    "retired.plot(kind=\"bar\")"
   ]
  },
  {
   "cell_type": "code",
   "execution_count": null,
   "metadata": {
    "collapsed": true
   },
   "outputs": [],
   "source": []
  }
 ],
 "metadata": {
  "kernelspec": {
   "display_name": "Python 3",
   "language": "python",
   "name": "python3"
  },
  "language_info": {
   "codemirror_mode": {
    "name": "ipython",
    "version": 3
   },
   "file_extension": ".py",
   "mimetype": "text/x-python",
   "name": "python",
   "nbconvert_exporter": "python",
   "pygments_lexer": "ipython3",
   "version": "3.5.0"
  }
 },
 "nbformat": 4,
 "nbformat_minor": 0
}
