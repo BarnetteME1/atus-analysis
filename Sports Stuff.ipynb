{
 "cells": [
  {
   "cell_type": "code",
   "execution_count": 2,
   "metadata": {
    "collapsed": false
   },
   "outputs": [],
   "source": [
    "import pandas as pd\n",
    "import matplotlib.pyplot as plt\n",
    "import locale\n",
    "import re\n",
    "import seaborn as sns\n",
    "%matplotlib inline"
   ]
  },
  {
   "cell_type": "code",
   "execution_count": 2,
   "metadata": {
    "collapsed": true
   },
   "outputs": [],
   "source": [
    "#age_group_list = []\n",
    "\n",
    "#for start, stop in [(14,17), (18,23), (24,30), (31,40), (41,50), (51,60), (60,100)]:\n",
    "#      age_group_list.append(males[(males.age >= start) & (males.age <= stop)])\n",
    "# PEMARITL atuscps"
   ]
  },
  {
   "cell_type": "code",
   "execution_count": 3,
   "metadata": {
    "collapsed": true
   },
   "outputs": [],
   "source": [
    "def average_minutes(data, activity_code):\n",
    "    activity_col = \"{}\".format(activity_code)\n",
    "    data = data[['weight', activity_col]]\n",
    "    data = data.rename(columns={activity_col: \"minutes\"})\n",
    "    data['weighted_minutes'] = data.weight * data.minutes\n",
    "    return data.weighted_minutes.sum() / data.weight.sum()"
   ]
  },
  {
   "cell_type": "code",
   "execution_count": 4,
   "metadata": {
    "collapsed": false
   },
   "outputs": [],
   "source": [
    "respondent = pd.read_csv(\"atusresp_2013/atusresp_2013.dat\")\n",
    "weight = respondent[[\"TUCASEID\", \"TRSPPRES\", \"TUFINLWGT\"]]\n",
    "\n",
    "activity_sum = pd.read_csv(\"atussum_2013/atussum_2013.dat\")\n",
    "activity_sum = activity_sum.rename(columns = {\"tucaseid\": \"TUCASEID\"})\n",
    "\n",
    "roster = pd.read_csv(\"atusrost_2013/atusrost_2013.dat\")\n",
    "\n",
    "activity = pd.read_csv(\"atusact_2013/atusact_2013.dat\")"
   ]
  },
  {
   "cell_type": "code",
   "execution_count": 5,
   "metadata": {
    "collapsed": false
   },
   "outputs": [],
   "source": [
    "needed_data = pd.merge(respondent, activity_sum, how=\"inner\", on=\"TUCASEID\")\n",
    "needed_data = pd.merge(needed_data, weight, how=\"inner\", on=\"TUCASEID\")"
   ]
  },
  {
   "cell_type": "code",
   "execution_count": 12,
   "metadata": {
    "collapsed": true
   },
   "outputs": [],
   "source": [
    "watching_sports = needed_data[[\"TUFINLWGT\", \"TESEX\", \"TRSPPRES\", \"TEAGE\", \"TRHHCHILD\", 't130202', 't130203', 't130205', 't130206', 't130207', 't130210', 't130213', 't130215', 't130216', 't130218', 't130219', 't130220', 't130221', 't130222', 't130223', 't130224', 't130225', 't130226', 't130227', 't130229', 't130232']]\n",
    "watching_sports = watching_sports.rename(columns={\"TUFINLWGT\": \"weight\", \"TESEX\": \"sex\", \"TRSPPRES\": \"marriage_status\", \"TEAGE\": \"age\", \"TRHHCHILD\":\"children\", 't130202': \"baseball\", 't130203': \"basketball\", 't130205': \"billiards\", 't130206': \"boating\", 't130207': \"bowling\", 't130210': \"equestrian\", 't130213': \"football\", 't130215': \"gymnastics\", 't130216': \"hockey\", 't130218': \"racquet\", 't130219': \"rodeo\", 't130220': \"rollerblading\", 't130221': \"rugby\", 't130222': \"running\", 't130223': \"winter_sports\", 't130224': \"soccer\", 't130225': \"softball\", 't130226': \"racing\", 't130227': \"volleyball\", 't130229': \"water_sports\", 't130232': \"wrestling\"})"
   ]
  },
  {
   "cell_type": "code",
   "execution_count": 6,
   "metadata": {
    "collapsed": false
   },
   "outputs": [],
   "source": [
    "watching_sports = needed_data[[\"TUFINLWGT\", \"TESEX\", \"TRSPPRES\", \"TEAGE\", \"TRHHCHILD\", 't130202', 't130203', 't130205', 't130206', 't130207', 't130210', 't130213', 't130215', 't130216', 't130218', 't130219', 't130220', 't130221', 't130222', 't130223', 't130224', 't130225', 't130226', 't130227', 't130229', 't130232']]\n",
    "watching_sports = watching_sports.rename(columns={\"TUFINLWGT\": \"weight\", \"TESEX\": \"sex\", \"TRSPPRES\": \"marriage_status\", \"TEAGE\": \"age\", \"TRHHCHILD\":\"children\", 't130202': \"baseball\", 't130203': \"basketball\", 't130205': \"billiards\", 't130206': \"boating\", 't130207': \"bowling\", 't130210': \"equestrian\", 't130213': \"football\", 't130215': \"gymnastics\", 't130216': \"hockey\", 't130218': \"racquet\", 't130219': \"rodeo\", 't130220': \"rollerblading\", 't130221': \"rugby\", 't130222': \"running\", 't130223': \"winter_sports\", 't130224': \"soccer\", 't130225': \"softball\", 't130226': \"racing\", 't130227': \"volleyball\", 't130229': \"water_sports\", 't130232': \"wrestling\"})\n",
    "\n",
    "baseball = watching_sports[watching_sports[\"baseball\"] > 0]\n",
    "baseball = baseball[[\"weight\", \"sex\", \"marriage_status\", \"age\", \"children\", \"baseball\"]]\n",
    "\n",
    "basketball = watching_sports[watching_sports[\"basketball\"] > 0]\n",
    "basketball = basketball[[\"weight\", \"sex\", \"marriage_status\", \"age\", \"children\", \"basketball\"]]\n",
    "\n",
    "billiards = watching_sports[watching_sports[\"billiards\"] > 0]\n",
    "billiards = billiards[[\"weight\", \"sex\", \"marriage_status\", \"age\", \"children\", \"billiards\"]]\n",
    "\n",
    "boating = watching_sports[watching_sports[\"boating\"] > 0]\n",
    "boating = boating[[\"weight\", \"sex\", \"marriage_status\", \"age\", \"children\", \"boating\"]]\n",
    "\n",
    "bowling = watching_sports[watching_sports[\"bowling\"] > 0]\n",
    "bowling = bowling[[\"weight\", \"sex\", \"marriage_status\", \"age\", \"children\", \"bowling\"]]\n",
    "\n",
    "equestrian = watching_sports[watching_sports[\"equestrian\"] > 0]\n",
    "equestrian = equestrian[[\"weight\", \"sex\", \"marriage_status\", \"age\", \"children\", \"equestrian\"]]\n",
    "\n",
    "football = watching_sports[watching_sports[\"football\"] > 0]\n",
    "football = football[[\"weight\", \"sex\", \"marriage_status\", \"age\", \"children\", \"football\"]]\n",
    "\n",
    "gymnastics = watching_sports[watching_sports[\"gymnastics\"] > 0]\n",
    "gymnastics = gymnastics[[\"weight\", \"sex\", \"marriage_status\", \"age\", \"children\", \"gymnastics\"]]\n",
    "\n",
    "hockey = watching_sports[watching_sports[\"hockey\"] > 0]\n",
    "hockey = hockey[[\"weight\", \"sex\", \"marriage_status\", \"age\", \"children\", \"hockey\"]]\n",
    "\n",
    "racquet = watching_sports[watching_sports[\"racquet\"] > 0]\n",
    "racquet = racquet[[\"weight\", \"sex\", \"marriage_status\", \"age\", \"children\", \"racquet\"]]\n",
    "\n",
    "rodeo = watching_sports[watching_sports[\"rodeo\"] > 0]\n",
    "rodeo = rodeo[[\"weight\", \"sex\", \"marriage_status\", \"age\", \"children\", \"rodeo\"]]\n",
    "\n",
    "rollerblading = watching_sports[watching_sports[\"rollerblading\"] > 0]\n",
    "rollerblading = rollerblading[[\"weight\", \"sex\", \"marriage_status\", \"age\", \"children\", \"rollerblading\"]]\n",
    "\n",
    "rugby = watching_sports[watching_sports[\"rugby\"] > 0]\n",
    "rugby = rugby[[\"weight\", \"sex\", \"marriage_status\", \"age\", \"children\", \"rugby\"]]\n",
    "\n",
    "running = watching_sports[watching_sports[\"running\"] > 0]\n",
    "running = running[[\"weight\", \"sex\", \"marriage_status\", \"age\", \"children\", \"running\"]]\n",
    "\n",
    "winter_sports = watching_sports[watching_sports[\"winter_sports\"] > 0]\n",
    "winter_sports = winter_sports[[\"weight\", \"sex\", \"marriage_status\", \"age\", \"children\", \"winter_sports\"]]\n",
    "\n",
    "soccer = watching_sports[watching_sports[\"soccer\"] > 0]\n",
    "soccer = soccer[[\"weight\", \"sex\", \"marriage_status\", \"age\", \"children\", \"soccer\"]]\n",
    "\n",
    "softball = watching_sports[watching_sports[\"softball\"] > 0]\n",
    "softball = softball[[\"weight\", \"sex\", \"marriage_status\", \"age\", \"children\", \"softball\"]]\n",
    "\n",
    "racing = watching_sports[watching_sports[\"racing\"] > 0]\n",
    "racing = racing[[\"weight\", \"sex\", \"marriage_status\", \"age\", \"children\", \"racing\"]]\n",
    "\n",
    "volleyball = watching_sports[watching_sports[\"volleyball\"] > 0]\n",
    "volleyball = volleyball[[\"weight\", \"sex\", \"marriage_status\", \"age\", \"children\", \"volleyball\"]]\n",
    "\n",
    "water_sports = watching_sports[watching_sports[\"water_sports\"] > 0]\n",
    "water_sports = water_sports[[\"weight\", \"sex\", \"marriage_status\", \"age\", \"children\", \"water_sports\"]]\n",
    "\n",
    "wrestling = watching_sports[watching_sports[\"wrestling\"] > 0]\n",
    "wrestling = wrestling[[\"weight\", \"sex\", \"marriage_status\", \"age\", \"children\", \"wrestling\"]]\n",
    "\n",
    "sports_list = [baseball, basketball, billiards, boating, bowling, equestrian, football, gymnastics, hockey, racquet, rodeo, rollerblading, rugby, running, winter_sports, soccer, softball, racing, volleyball, water_sports, wrestling]\n",
    "sports_list_cat = [\"baseball\", \"basketball\", \"billiards\", \"boating\", \"bowling\", \"equestrian\", \"football\", \"gymnastics\", \"hockey\", \"racquet\", \"rodeo\", \"rollerblading\", \"rugby\", \"running\", \"winter_sports\", \"soccer\", \"softball\", \"racing\", \"volleyball\", \"water_sports\", \"wrestling\"]"
   ]
  },
  {
   "cell_type": "code",
   "execution_count": 8,
   "metadata": {
    "collapsed": false
   },
   "outputs": [],
   "source": [
    "average_time = []\n",
    "for num in range(len(sports_list)):\n",
    "    average_time.append(average_minutes(sports_list[num], sports_list_cat[num]))"
   ]
  },
  {
   "cell_type": "code",
   "execution_count": 9,
   "metadata": {
    "collapsed": false
   },
   "outputs": [],
   "source": [
    "sports_dict = zip(sports_list_cat, average_time)\n",
    "sports_dict = dict(sports_dict)"
   ]
  },
  {
   "cell_type": "code",
   "execution_count": 10,
   "metadata": {
    "collapsed": false
   },
   "outputs": [],
   "source": [
    "sportsdf = pd.Series(sports_dict, name=\"average_min_watched\")\n",
    "sportsdf.index.name = \"sport\"\n",
    "sportsdf = sportsdf.reset_index()\n",
    "sportsdf.index = sportsdf.pop(\"sport\")"
   ]
  },
  {
   "cell_type": "code",
   "execution_count": 13,
   "metadata": {
    "collapsed": false
   },
   "outputs": [
    {
     "data": {
      "text/html": [
       "<div>\n",
       "<table border=\"1\" class=\"dataframe\">\n",
       "  <thead>\n",
       "    <tr style=\"text-align: right;\">\n",
       "      <th></th>\n",
       "      <th>average_min_watched</th>\n",
       "    </tr>\n",
       "    <tr>\n",
       "      <th>sport</th>\n",
       "      <th></th>\n",
       "    </tr>\n",
       "  </thead>\n",
       "  <tbody>\n",
       "    <tr>\n",
       "      <th>baseball</th>\n",
       "      <td>199.401220</td>\n",
       "    </tr>\n",
       "    <tr>\n",
       "      <th>basketball</th>\n",
       "      <td>145.615688</td>\n",
       "    </tr>\n",
       "    <tr>\n",
       "      <th>billiards</th>\n",
       "      <td>480.000000</td>\n",
       "    </tr>\n",
       "    <tr>\n",
       "      <th>boating</th>\n",
       "      <td>60.000000</td>\n",
       "    </tr>\n",
       "    <tr>\n",
       "      <th>bowling</th>\n",
       "      <td>130.649215</td>\n",
       "    </tr>\n",
       "    <tr>\n",
       "      <th>equestrian</th>\n",
       "      <td>180.000000</td>\n",
       "    </tr>\n",
       "    <tr>\n",
       "      <th>football</th>\n",
       "      <td>164.347631</td>\n",
       "    </tr>\n",
       "    <tr>\n",
       "      <th>gymnastics</th>\n",
       "      <td>74.042484</td>\n",
       "    </tr>\n",
       "    <tr>\n",
       "      <th>hockey</th>\n",
       "      <td>125.893849</td>\n",
       "    </tr>\n",
       "    <tr>\n",
       "      <th>racing</th>\n",
       "      <td>246.326512</td>\n",
       "    </tr>\n",
       "    <tr>\n",
       "      <th>racquet</th>\n",
       "      <td>115.000000</td>\n",
       "    </tr>\n",
       "    <tr>\n",
       "      <th>rodeo</th>\n",
       "      <td>315.000000</td>\n",
       "    </tr>\n",
       "    <tr>\n",
       "      <th>rollerblading</th>\n",
       "      <td>120.000000</td>\n",
       "    </tr>\n",
       "    <tr>\n",
       "      <th>rugby</th>\n",
       "      <td>40.000000</td>\n",
       "    </tr>\n",
       "    <tr>\n",
       "      <th>running</th>\n",
       "      <td>332.378284</td>\n",
       "    </tr>\n",
       "    <tr>\n",
       "      <th>soccer</th>\n",
       "      <td>116.910126</td>\n",
       "    </tr>\n",
       "    <tr>\n",
       "      <th>softball</th>\n",
       "      <td>114.366227</td>\n",
       "    </tr>\n",
       "    <tr>\n",
       "      <th>volleyball</th>\n",
       "      <td>278.895877</td>\n",
       "    </tr>\n",
       "    <tr>\n",
       "      <th>water_sports</th>\n",
       "      <td>390.907623</td>\n",
       "    </tr>\n",
       "    <tr>\n",
       "      <th>winter_sports</th>\n",
       "      <td>40.000000</td>\n",
       "    </tr>\n",
       "    <tr>\n",
       "      <th>wrestling</th>\n",
       "      <td>177.288287</td>\n",
       "    </tr>\n",
       "  </tbody>\n",
       "</table>\n",
       "</div>"
      ],
      "text/plain": [
       "               average_min_watched\n",
       "sport                             \n",
       "baseball                199.401220\n",
       "basketball              145.615688\n",
       "billiards               480.000000\n",
       "boating                  60.000000\n",
       "bowling                 130.649215\n",
       "equestrian              180.000000\n",
       "football                164.347631\n",
       "gymnastics               74.042484\n",
       "hockey                  125.893849\n",
       "racing                  246.326512\n",
       "racquet                 115.000000\n",
       "rodeo                   315.000000\n",
       "rollerblading           120.000000\n",
       "rugby                    40.000000\n",
       "running                 332.378284\n",
       "soccer                  116.910126\n",
       "softball                114.366227\n",
       "volleyball              278.895877\n",
       "water_sports            390.907623\n",
       "winter_sports            40.000000\n",
       "wrestling               177.288287"
      ]
     },
     "execution_count": 13,
     "metadata": {},
     "output_type": "execute_result"
    }
   ],
   "source": [
    "sportsdf"
   ]
  },
  {
   "cell_type": "code",
   "execution_count": 11,
   "metadata": {
    "collapsed": false
   },
   "outputs": [
    {
     "data": {
      "text/plain": [
       "<matplotlib.axes._subplots.AxesSubplot at 0x102d4f898>"
      ]
     },
     "execution_count": 11,
     "metadata": {},
     "output_type": "execute_result"
    },
    {
     "data": {
      "image/png": "[encoded data removed]",
      "text/plain": [
       "<matplotlib.figure.Figure at 0x1028c8ba8>"
      ]
     },
     "metadata": {},
     "output_type": "display_data"
    }
   ],
   "source": [
    "sportsdf.plot(kind = \"bar\", figsize = (20,10))"
   ]
  },
  {
   "cell_type": "code",
   "execution_count": null,
   "metadata": {
    "collapsed": true
   },
   "outputs": [],
   "source": []
  }
 ],
 "metadata": {
  "kernelspec": {
   "display_name": "Python 3",
   "language": "python",
   "name": "python3"
  },
  "language_info": {
   "codemirror_mode": {
    "name": "ipython",
    "version": 3
   },
   "file_extension": ".py",
   "mimetype": "text/x-python",
   "name": "python",
   "nbconvert_exporter": "python",
   "pygments_lexer": "ipython3",
   "version": "3.5.0"
  }
 },
 "nbformat": 4,
 "nbformat_minor": 0
}
