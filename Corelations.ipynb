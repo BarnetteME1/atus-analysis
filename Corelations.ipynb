{
 "cells": [
  {
   "cell_type": "code",
   "execution_count": 2,
   "metadata": {
    "collapsed": true
   },
   "outputs": [],
   "source": [
    "import pandas as pd\n",
    "import matplotlib.pyplot as plt\n",
    "import locale\n",
    "import re\n",
    "import seaborn as sns\n",
    "%matplotlib inline"
   ]
  },
  {
   "cell_type": "code",
   "execution_count": 3,
   "metadata": {
    "collapsed": true
   },
   "outputs": [],
   "source": [
    "def average_minutes(data, activity_code):\n",
    "    activity_col = \"{}\".format(activity_code)\n",
    "    data = data[['weight', activity_col]]\n",
    "    data = data.rename(columns={activity_col: \"minutes\"})\n",
    "    data['weighted_minutes'] = data.weight * data.minutes\n",
    "    return data.weighted_minutes.sum() / data.weight.sum()"
   ]
  },
  {
   "cell_type": "code",
   "execution_count": 4,
   "metadata": {
    "collapsed": false
   },
   "outputs": [],
   "source": [
    "respondent = pd.read_csv(\"atusresp_2013/atusresp_2013.dat\")\n",
    "weight = respondent[[\"TUCASEID\", \"TRSPPRES\", \"TUFINLWGT\", \"TULINENO\"]]\n",
    "\n",
    "activity_sum = pd.read_csv(\"atussum_2013/atussum_2013.dat\")\n",
    "activity_sum = activity_sum.rename(columns = {\"tucaseid\": \"TUCASEID\"})\n",
    "\n",
    "marital_status = pd.read_csv(\"atuscps_2013/atuscps_2013.dat\")\n",
    "marital_status = marital_status[[\"TUCASEID\",\"TULINENO\", \"PEMARITL\"]]\n",
    "\n",
    "roster = pd.read_csv(\"atusrost_2013/atusrost_2013.dat\")\n",
    "\n",
    "activity = pd.read_csv(\"atusact_2013/atusact_2013.dat\")\n",
    "\n",
    "needed_data = pd.merge(respondent, activity_sum, how=\"inner\", on=\"TUCASEID\")\n",
    "needed_data = pd.merge(needed_data, roster, how=\"inner\", on=[\"TUCASEID\", \"TULINENO\"])\n",
    "needed_data = pd.merge(needed_data, marital_status, how=\"inner\", on=[\"TUCASEID\", \"TULINENO\"])"
   ]
  },
  {
   "cell_type": "code",
   "execution_count": 5,
   "metadata": {
    "collapsed": false
   },
   "outputs": [],
   "source": [
    "under18 = needed_data.TEAGE_x <= 18\n",
    "over18 = needed_data.TEAGE_x > 18\n",
    "under65 = needed_data.TEAGE_x < 65\n",
    "over65 = needed_data.TEAGE_x >= 65\n",
    "male = needed_data.TESEX_x == 1\n",
    "female = needed_data.TESEX_x == 2"
   ]
  },
  {
   "cell_type": "code",
   "execution_count": 6,
   "metadata": {
    "collapsed": false
   },
   "outputs": [],
   "source": [
    "watching_sports = needed_data[[\"TUFINLWGT_x\", \"TESEX_x\", \"PEMARITL\", \"TEAGE_x\", \"TRHHCHILD\", 't130202',\n",
    "                               't130203', 't130213']]\n",
    "watching_sports = watching_sports.rename(columns={\"TUFINLWGT_x\": \"weight\", \n",
    "                                                  \"TESEX_x\": \"sex\", \"PEMARITL\": \"marriage_status\", \"TEAGE_x\": \"age\", \n",
    "                                                  \"TRHHCHILD\":\"children\", 't130202': \"baseball\", \n",
    "                                                  't130203': \"basketball\", 't130213': \"football\"})\n",
    "\n",
    "sports_name = [\"baseball\", \"basketball\", \"billiards\", \"boating\", \"bowling\", \"equestrian\", \"football\", \"gymnastics\", \"hockey\", \"racquet\", \"rodeo\", \"rollerblading\", \"rugby\", \"running\", \"winter_sports\", \"soccer\", \"softball\", \"racing\", \"volleyball\", \"water_sports\", \"wrestling\"]"
   ]
  },
  {
   "cell_type": "code",
   "execution_count": 7,
   "metadata": {
    "collapsed": false
   },
   "outputs": [
    {
     "ename": "KeyError",
     "evalue": "'billiards'",
     "output_type": "error",
     "traceback": [
      "\u001b[0;31m---------------------------------------------------------------------------\u001b[0m",
      "\u001b[0;31mKeyError\u001b[0m                                  Traceback (most recent call last)",
      "\u001b[0;32m<ipython-input-7-6749d8742bfb>\u001b[0m in \u001b[0;36m<module>\u001b[0;34m()\u001b[0m\n\u001b[1;32m      1\u001b[0m \u001b[0;32mfor\u001b[0m \u001b[0mnum\u001b[0m \u001b[0;32min\u001b[0m \u001b[0mrange\u001b[0m\u001b[0;34m(\u001b[0m\u001b[0mlen\u001b[0m\u001b[0;34m(\u001b[0m\u001b[0msports_name\u001b[0m\u001b[0;34m)\u001b[0m\u001b[0;34m)\u001b[0m\u001b[0;34m:\u001b[0m\u001b[0;34m\u001b[0m\u001b[0m\n\u001b[0;32m----> 2\u001b[0;31m     \u001b[0mwatching_sports\u001b[0m\u001b[0;34m[\u001b[0m\u001b[0;34m\"weighted_time_\"\u001b[0m \u001b[0;34m+\u001b[0m \u001b[0msports_name\u001b[0m\u001b[0;34m[\u001b[0m\u001b[0mnum\u001b[0m\u001b[0;34m]\u001b[0m\u001b[0;34m]\u001b[0m \u001b[0;34m=\u001b[0m \u001b[0mwatching_sports\u001b[0m\u001b[0;34m.\u001b[0m\u001b[0mweight\u001b[0m \u001b[0;34m*\u001b[0m \u001b[0mwatching_sports\u001b[0m\u001b[0;34m[\u001b[0m\u001b[0msports_name\u001b[0m\u001b[0;34m[\u001b[0m\u001b[0mnum\u001b[0m\u001b[0;34m]\u001b[0m\u001b[0;34m]\u001b[0m\u001b[0;34m\u001b[0m\u001b[0m\n\u001b[0m",
      "\u001b[0;32m/Users/MatthewBarnette/iron_yard_hw/atus-analysis/.direnv/python-3.5.0/lib/python3.5/site-packages/pandas/core/frame.py\u001b[0m in \u001b[0;36m__getitem__\u001b[0;34m(self, key)\u001b[0m\n\u001b[1;32m   1795\u001b[0m             \u001b[0;32mreturn\u001b[0m \u001b[0mself\u001b[0m\u001b[0;34m.\u001b[0m\u001b[0m_getitem_multilevel\u001b[0m\u001b[0;34m(\u001b[0m\u001b[0mkey\u001b[0m\u001b[0;34m)\u001b[0m\u001b[0;34m\u001b[0m\u001b[0m\n\u001b[1;32m   1796\u001b[0m         \u001b[0;32melse\u001b[0m\u001b[0;34m:\u001b[0m\u001b[0;34m\u001b[0m\u001b[0m\n\u001b[0;32m-> 1797\u001b[0;31m             \u001b[0;32mreturn\u001b[0m \u001b[0mself\u001b[0m\u001b[0;34m.\u001b[0m\u001b[0m_getitem_column\u001b[0m\u001b[0;34m(\u001b[0m\u001b[0mkey\u001b[0m\u001b[0;34m)\u001b[0m\u001b[0;34m\u001b[0m\u001b[0m\n\u001b[0m\u001b[1;32m   1798\u001b[0m \u001b[0;34m\u001b[0m\u001b[0m\n\u001b[1;32m   1799\u001b[0m     \u001b[0;32mdef\u001b[0m \u001b[0m_getitem_column\u001b[0m\u001b[0;34m(\u001b[0m\u001b[0mself\u001b[0m\u001b[0;34m,\u001b[0m \u001b[0mkey\u001b[0m\u001b[0;34m)\u001b[0m\u001b[0;34m:\u001b[0m\u001b[0;34m\u001b[0m\u001b[0m\n",
      "\u001b[0;32m/Users/MatthewBarnette/iron_yard_hw/atus-analysis/.direnv/python-3.5.0/lib/python3.5/site-packages/pandas/core/frame.py\u001b[0m in \u001b[0;36m_getitem_column\u001b[0;34m(self, key)\u001b[0m\n\u001b[1;32m   1802\u001b[0m         \u001b[0;31m# get column\u001b[0m\u001b[0;34m\u001b[0m\u001b[0;34m\u001b[0m\u001b[0m\n\u001b[1;32m   1803\u001b[0m         \u001b[0;32mif\u001b[0m \u001b[0mself\u001b[0m\u001b[0;34m.\u001b[0m\u001b[0mcolumns\u001b[0m\u001b[0;34m.\u001b[0m\u001b[0mis_unique\u001b[0m\u001b[0;34m:\u001b[0m\u001b[0;34m\u001b[0m\u001b[0m\n\u001b[0;32m-> 1804\u001b[0;31m             \u001b[0;32mreturn\u001b[0m \u001b[0mself\u001b[0m\u001b[0;34m.\u001b[0m\u001b[0m_get_item_cache\u001b[0m\u001b[0;34m(\u001b[0m\u001b[0mkey\u001b[0m\u001b[0;34m)\u001b[0m\u001b[0;34m\u001b[0m\u001b[0m\n\u001b[0m\u001b[1;32m   1805\u001b[0m \u001b[0;34m\u001b[0m\u001b[0m\n\u001b[1;32m   1806\u001b[0m         \u001b[0;31m# duplicate columns & possible reduce dimensionaility\u001b[0m\u001b[0;34m\u001b[0m\u001b[0;34m\u001b[0m\u001b[0m\n",
      "\u001b[0;32m/Users/MatthewBarnette/iron_yard_hw/atus-analysis/.direnv/python-3.5.0/lib/python3.5/site-packages/pandas/core/generic.py\u001b[0m in \u001b[0;36m_get_item_cache\u001b[0;34m(self, item)\u001b[0m\n\u001b[1;32m   1082\u001b[0m         \u001b[0mres\u001b[0m \u001b[0;34m=\u001b[0m \u001b[0mcache\u001b[0m\u001b[0;34m.\u001b[0m\u001b[0mget\u001b[0m\u001b[0;34m(\u001b[0m\u001b[0mitem\u001b[0m\u001b[0;34m)\u001b[0m\u001b[0;34m\u001b[0m\u001b[0m\n\u001b[1;32m   1083\u001b[0m         \u001b[0;32mif\u001b[0m \u001b[0mres\u001b[0m \u001b[0;32mis\u001b[0m \u001b[0;32mNone\u001b[0m\u001b[0;34m:\u001b[0m\u001b[0;34m\u001b[0m\u001b[0m\n\u001b[0;32m-> 1084\u001b[0;31m             \u001b[0mvalues\u001b[0m \u001b[0;34m=\u001b[0m \u001b[0mself\u001b[0m\u001b[0;34m.\u001b[0m\u001b[0m_data\u001b[0m\u001b[0;34m.\u001b[0m\u001b[0mget\u001b[0m\u001b[0;34m(\u001b[0m\u001b[0mitem\u001b[0m\u001b[0;34m)\u001b[0m\u001b[0;34m\u001b[0m\u001b[0m\n\u001b[0m\u001b[1;32m   1085\u001b[0m             \u001b[0mres\u001b[0m \u001b[0;34m=\u001b[0m \u001b[0mself\u001b[0m\u001b[0;34m.\u001b[0m\u001b[0m_box_item_values\u001b[0m\u001b[0;34m(\u001b[0m\u001b[0mitem\u001b[0m\u001b[0;34m,\u001b[0m \u001b[0mvalues\u001b[0m\u001b[0;34m)\u001b[0m\u001b[0;34m\u001b[0m\u001b[0m\n\u001b[1;32m   1086\u001b[0m             \u001b[0mcache\u001b[0m\u001b[0;34m[\u001b[0m\u001b[0mitem\u001b[0m\u001b[0;34m]\u001b[0m \u001b[0;34m=\u001b[0m \u001b[0mres\u001b[0m\u001b[0;34m\u001b[0m\u001b[0m\n",
      "\u001b[0;32m/Users/MatthewBarnette/iron_yard_hw/atus-analysis/.direnv/python-3.5.0/lib/python3.5/site-packages/pandas/core/internals.py\u001b[0m in \u001b[0;36mget\u001b[0;34m(self, item, fastpath)\u001b[0m\n\u001b[1;32m   2849\u001b[0m \u001b[0;34m\u001b[0m\u001b[0m\n\u001b[1;32m   2850\u001b[0m             \u001b[0;32mif\u001b[0m \u001b[0;32mnot\u001b[0m \u001b[0misnull\u001b[0m\u001b[0;34m(\u001b[0m\u001b[0mitem\u001b[0m\u001b[0;34m)\u001b[0m\u001b[0;34m:\u001b[0m\u001b[0;34m\u001b[0m\u001b[0m\n\u001b[0;32m-> 2851\u001b[0;31m                 \u001b[0mloc\u001b[0m \u001b[0;34m=\u001b[0m \u001b[0mself\u001b[0m\u001b[0;34m.\u001b[0m\u001b[0mitems\u001b[0m\u001b[0;34m.\u001b[0m\u001b[0mget_loc\u001b[0m\u001b[0;34m(\u001b[0m\u001b[0mitem\u001b[0m\u001b[0;34m)\u001b[0m\u001b[0;34m\u001b[0m\u001b[0m\n\u001b[0m\u001b[1;32m   2852\u001b[0m             \u001b[0;32melse\u001b[0m\u001b[0;34m:\u001b[0m\u001b[0;34m\u001b[0m\u001b[0m\n\u001b[1;32m   2853\u001b[0m                 \u001b[0mindexer\u001b[0m \u001b[0;34m=\u001b[0m \u001b[0mnp\u001b[0m\u001b[0;34m.\u001b[0m\u001b[0marange\u001b[0m\u001b[0;34m(\u001b[0m\u001b[0mlen\u001b[0m\u001b[0;34m(\u001b[0m\u001b[0mself\u001b[0m\u001b[0;34m.\u001b[0m\u001b[0mitems\u001b[0m\u001b[0;34m)\u001b[0m\u001b[0;34m)\u001b[0m\u001b[0;34m[\u001b[0m\u001b[0misnull\u001b[0m\u001b[0;34m(\u001b[0m\u001b[0mself\u001b[0m\u001b[0;34m.\u001b[0m\u001b[0mitems\u001b[0m\u001b[0;34m)\u001b[0m\u001b[0;34m]\u001b[0m\u001b[0;34m\u001b[0m\u001b[0m\n",
      "\u001b[0;32m/Users/MatthewBarnette/iron_yard_hw/atus-analysis/.direnv/python-3.5.0/lib/python3.5/site-packages/pandas/core/index.py\u001b[0m in \u001b[0;36mget_loc\u001b[0;34m(self, key, method)\u001b[0m\n\u001b[1;32m   1570\u001b[0m         \"\"\"\n\u001b[1;32m   1571\u001b[0m         \u001b[0;32mif\u001b[0m \u001b[0mmethod\u001b[0m \u001b[0;32mis\u001b[0m \u001b[0;32mNone\u001b[0m\u001b[0;34m:\u001b[0m\u001b[0;34m\u001b[0m\u001b[0m\n\u001b[0;32m-> 1572\u001b[0;31m             \u001b[0;32mreturn\u001b[0m \u001b[0mself\u001b[0m\u001b[0;34m.\u001b[0m\u001b[0m_engine\u001b[0m\u001b[0;34m.\u001b[0m\u001b[0mget_loc\u001b[0m\u001b[0;34m(\u001b[0m\u001b[0m_values_from_object\u001b[0m\u001b[0;34m(\u001b[0m\u001b[0mkey\u001b[0m\u001b[0;34m)\u001b[0m\u001b[0;34m)\u001b[0m\u001b[0;34m\u001b[0m\u001b[0m\n\u001b[0m\u001b[1;32m   1573\u001b[0m \u001b[0;34m\u001b[0m\u001b[0m\n\u001b[1;32m   1574\u001b[0m         \u001b[0mindexer\u001b[0m \u001b[0;34m=\u001b[0m \u001b[0mself\u001b[0m\u001b[0;34m.\u001b[0m\u001b[0mget_indexer\u001b[0m\u001b[0;34m(\u001b[0m\u001b[0;34m[\u001b[0m\u001b[0mkey\u001b[0m\u001b[0;34m]\u001b[0m\u001b[0;34m,\u001b[0m \u001b[0mmethod\u001b[0m\u001b[0;34m=\u001b[0m\u001b[0mmethod\u001b[0m\u001b[0;34m)\u001b[0m\u001b[0;34m\u001b[0m\u001b[0m\n",
      "\u001b[0;32mpandas/index.pyx\u001b[0m in \u001b[0;36mpandas.index.IndexEngine.get_loc (pandas/index.c:3824)\u001b[0;34m()\u001b[0m\n",
      "\u001b[0;32mpandas/index.pyx\u001b[0m in \u001b[0;36mpandas.index.IndexEngine.get_loc (pandas/index.c:3704)\u001b[0;34m()\u001b[0m\n",
      "\u001b[0;32mpandas/hashtable.pyx\u001b[0m in \u001b[0;36mpandas.hashtable.PyObjectHashTable.get_item (pandas/hashtable.c:12280)\u001b[0;34m()\u001b[0m\n",
      "\u001b[0;32mpandas/hashtable.pyx\u001b[0m in \u001b[0;36mpandas.hashtable.PyObjectHashTable.get_item (pandas/hashtable.c:12231)\u001b[0;34m()\u001b[0m\n",
      "\u001b[0;31mKeyError\u001b[0m: 'billiards'"
     ]
    }
   ],
   "source": [
    "for num in range(len(sports_name)):\n",
    "    watching_sports[\"weighted_time_\" + sports_name[num]] = watching_sports.weight * watching_sports[sports_name[num]]"
   ]
  },
  {
   "cell_type": "code",
   "execution_count": null,
   "metadata": {
    "collapsed": true
   },
   "outputs": [],
   "source": []
  },
  {
   "cell_type": "code",
   "execution_count": 6,
   "metadata": {
    "collapsed": false
   },
   "outputs": [],
   "source": [
    "for num in range(len(sports_name)):\n",
    "    watching_sports[\"weighted_time_\" + sports_name[num]] = watching_sports.weight * watching_sports[sports_name[num]]\n",
    "    \n",
    "watching_sports_wt = watching_sports[['weighted_time_baseball',\n",
    "                                      'weighted_time_basketball', 'weighted_time_football']]\n",
    "\n",
    "watching_sports_wtsum = watching_sports_wt.sum()\n",
    "\n",
    "watching_sports_wtsum = pd.DataFrame(watching_sports_wtsum, columns = [\"weighted_time\"])\n",
    "\n",
    "watching_sports_wtsum = (watching_sports_wtsum.weighted_time / watching_sports.weight.sum())"
   ]
  },
  {
   "cell_type": "code",
   "execution_count": 7,
   "metadata": {
    "collapsed": false
   },
   "outputs": [],
   "source": [
    "watching_sports_wtsum = pd.DataFrame(watching_sports_wtsum)"
   ]
  },
  {
   "cell_type": "code",
   "execution_count": 8,
   "metadata": {
    "collapsed": false
   },
   "outputs": [],
   "source": [
    "men_under18 = watching_sports[male & under18]\n",
    "men_working = watching_sports[male & over18 & under65]\n",
    "men_retired = watching_sports[male & over65]\n",
    "women_under18 = watching_sports[female & under18]\n",
    "women_working = watching_sports[female & over18 & under65]\n",
    "women_retired = watching_sports[female & over65]"
   ]
  },
  {
   "cell_type": "code",
   "execution_count": 23,
   "metadata": {
    "collapsed": false
   },
   "outputs": [
    {
     "name": "stderr",
     "output_type": "stream",
     "text": [
      "/Users/MatthewBarnette/iron_yard_hw/atus-analysis/.direnv/python-3.5.0/lib/python3.5/site-packages/ipykernel/__main__.py:2: SettingWithCopyWarning: \n",
      "A value is trying to be set on a copy of a slice from a DataFrame.\n",
      "Try using .loc[row_indexer,col_indexer] = value instead\n",
      "\n",
      "See the the caveats in the documentation: http://pandas.pydata.org/pandas-docs/stable/indexing.html#indexing-view-versus-copy\n",
      "  from ipykernel import kernelapp as app\n",
      "/Users/MatthewBarnette/iron_yard_hw/atus-analysis/.direnv/python-3.5.0/lib/python3.5/site-packages/ipykernel/__main__.py:17: SettingWithCopyWarning: \n",
      "A value is trying to be set on a copy of a slice from a DataFrame.\n",
      "Try using .loc[row_indexer,col_indexer] = value instead\n",
      "\n",
      "See the the caveats in the documentation: http://pandas.pydata.org/pandas-docs/stable/indexing.html#indexing-view-versus-copy\n",
      "/Users/MatthewBarnette/iron_yard_hw/atus-analysis/.direnv/python-3.5.0/lib/python3.5/site-packages/ipykernel/__main__.py:32: SettingWithCopyWarning: \n",
      "A value is trying to be set on a copy of a slice from a DataFrame.\n",
      "Try using .loc[row_indexer,col_indexer] = value instead\n",
      "\n",
      "See the the caveats in the documentation: http://pandas.pydata.org/pandas-docs/stable/indexing.html#indexing-view-versus-copy\n",
      "/Users/MatthewBarnette/iron_yard_hw/atus-analysis/.direnv/python-3.5.0/lib/python3.5/site-packages/ipykernel/__main__.py:47: SettingWithCopyWarning: \n",
      "A value is trying to be set on a copy of a slice from a DataFrame.\n",
      "Try using .loc[row_indexer,col_indexer] = value instead\n",
      "\n",
      "See the the caveats in the documentation: http://pandas.pydata.org/pandas-docs/stable/indexing.html#indexing-view-versus-copy\n",
      "/Users/MatthewBarnette/iron_yard_hw/atus-analysis/.direnv/python-3.5.0/lib/python3.5/site-packages/ipykernel/__main__.py:62: SettingWithCopyWarning: \n",
      "A value is trying to be set on a copy of a slice from a DataFrame.\n",
      "Try using .loc[row_indexer,col_indexer] = value instead\n",
      "\n",
      "See the the caveats in the documentation: http://pandas.pydata.org/pandas-docs/stable/indexing.html#indexing-view-versus-copy\n",
      "/Users/MatthewBarnette/iron_yard_hw/atus-analysis/.direnv/python-3.5.0/lib/python3.5/site-packages/ipykernel/__main__.py:76: SettingWithCopyWarning: \n",
      "A value is trying to be set on a copy of a slice from a DataFrame.\n",
      "Try using .loc[row_indexer,col_indexer] = value instead\n",
      "\n",
      "See the the caveats in the documentation: http://pandas.pydata.org/pandas-docs/stable/indexing.html#indexing-view-versus-copy\n"
     ]
    }
   ],
   "source": [
    "for num in range(len(sports_name)):\n",
    "    men_under18[\"weighted_time_\" + sports_name[num]] = men_under18.weight * men_under18[sports_name[num]]\n",
    "    \n",
    "men_under18_wt = men_under18[['weighted_time_baseball',\n",
    "                              'weighted_time_basketball', 'weighted_time_football']]\n",
    "\n",
    "men_under18_wtsum = men_under18_wt.sum()\n",
    "\n",
    "men_under18_wtsum = pd.DataFrame(men_under18_wtsum, columns = [\"men\"])\n",
    "\n",
    "men_under18_wtsum = (men_under18_wtsum.men / watching_sports.weight.sum())\n",
    "\n",
    "men_under18_wtsum = pd.DataFrame(men_under18_wtsum)\n",
    "\n",
    "\n",
    "for num in range(len(sports_name)):\n",
    "    women_under18[\"weighted_time_\" + sports_name[num]] = women_under18.weight * women_under18[sports_name[num]]\n",
    "    \n",
    "women_under18_wt = women_under18[['weighted_time_baseball',\n",
    "                                  'weighted_time_basketball', 'weighted_time_football']]\n",
    "\n",
    "women_under18_wtsum = women_under18_wt.sum()\n",
    "\n",
    "women_under18_wtsum = pd.DataFrame(women_under18_wtsum, columns = [\"women\"])\n",
    "\n",
    "women_under18_wtsum = (women_under18_wtsum.women / watching_sports.weight.sum())\n",
    "\n",
    "women_under18_wtsum = pd.DataFrame(women_under18_wtsum)\n",
    "\n",
    "\n",
    "for num in range(len(sports_name)):\n",
    "    men_working[\"weighted_time_\" + sports_name[num]] = men_working.weight * men_working[sports_name[num]]\n",
    "    \n",
    "men_working_wt = men_working[['weighted_time_baseball',\n",
    "                              'weighted_time_basketball', 'weighted_time_football']]\n",
    "\n",
    "men_working_wtsum = men_working_wt.sum()\n",
    "\n",
    "men_working_wtsum = pd.DataFrame(men_working_wtsum, columns = [\"men\"])\n",
    "\n",
    "men_working_wtsum = (men_working_wtsum.men / watching_sports.weight.sum())\n",
    "\n",
    "men_working_wtsum = pd.DataFrame(men_working_wtsum)\n",
    "\n",
    "\n",
    "for num in range(len(sports_name)):\n",
    "    women_working[\"weighted_time_\" + sports_name[num]] = women_working.weight * women_working[sports_name[num]]\n",
    "    \n",
    "women_working_wt = women_working[['weighted_time_baseball',\n",
    "                                  'weighted_time_basketball', 'weighted_time_football']]\n",
    "\n",
    "women_working_wtsum = women_working_wt.sum()\n",
    "\n",
    "women_working_wtsum = pd.DataFrame(women_working_wtsum, columns = [\"women\"])\n",
    "\n",
    "women_working_wtsum = (women_working_wtsum.women / watching_sports.weight.sum())\n",
    "\n",
    "women_working_wtsum = pd.DataFrame(women_working_wtsum)\n",
    "\n",
    "\n",
    "for num in range(len(sports_name)):\n",
    "    men_retired[\"weighted_time_\" + sports_name[num]] = men_retired.weight * men_retired[sports_name[num]]\n",
    "    \n",
    "men_retired_wt = men_retired[['weighted_time_baseball',\n",
    "                              'weighted_time_basketball', 'weighted_time_football']]\n",
    "\n",
    "men_retired_wtsum = men_retired_wt.sum()\n",
    "\n",
    "men_retired_wtsum = pd.DataFrame(men_retired_wtsum, columns = [\"men\"])\n",
    "\n",
    "men_retired_wtsum = (men_retired_wtsum.men / watching_sports.weight.sum())\n",
    "\n",
    "men_retired_wtsum = pd.DataFrame(men_retired_wtsum)\n",
    "\n",
    "for num in range(len(sports_name)):\n",
    "    women_retired[\"weighted_time_\" + sports_name[num]] = women_retired.weight * women_retired[sports_name[num]]\n",
    "    \n",
    "women_retired_wt = women_retired[['weighted_time_baseball',\n",
    "                                  'weighted_time_basketball', 'weighted_time_football']]\n",
    "\n",
    "women_retired_wtsum = women_retired_wt.sum()\n",
    "\n",
    "women_retired_wtsum = pd.DataFrame(women_retired_wtsum, columns = [\"women\"])\n",
    "\n",
    "women_retired_wtsum = (women_retired_wtsum.women / watching_sports.weight.sum())\n",
    "\n",
    "women_retired_wtsum = pd.DataFrame(women_retired_wtsum)"
   ]
  },
  {
   "cell_type": "code",
   "execution_count": 24,
   "metadata": {
    "collapsed": false
   },
   "outputs": [],
   "source": [
    "under_18 = women_under18_wtsum.join(men_under18_wtsum)"
   ]
  },
  {
   "cell_type": "code",
   "execution_count": 25,
   "metadata": {
    "collapsed": true
   },
   "outputs": [],
   "source": [
    "working = women_working_wtsum.join(men_working_wtsum)"
   ]
  },
  {
   "cell_type": "code",
   "execution_count": 26,
   "metadata": {
    "collapsed": false
   },
   "outputs": [],
   "source": [
    "retired = women_retired_wtsum.join(men_retired_wtsum)"
   ]
  },
  {
   "cell_type": "code",
   "execution_count": 28,
   "metadata": {
    "collapsed": false
   },
   "outputs": [
    {
     "data": {
      "text/plain": [
       "<matplotlib.axes._subplots.AxesSubplot at 0x117d68b38>"
      ]
     },
     "execution_count": 28,
     "metadata": {},
     "output_type": "execute_result"
    },
    {
     "data": {
      "image/png": "[encoded data removed]",
      "text/plain": [
       "<matplotlib.figure.Figure at 0x116c309b0>"
      ]
     },
     "metadata": {},
     "output_type": "display_data"
    }
   ],
   "source": [
    "under_18.plot(kind=\"bar\", figsize = (20,10))"
   ]
  },
  {
   "cell_type": "code",
   "execution_count": 21,
   "metadata": {
    "collapsed": false
   },
   "outputs": [
    {
     "data": {
      "text/plain": [
       "<matplotlib.axes._subplots.AxesSubplot at 0x115b52208>"
      ]
     },
     "execution_count": 21,
     "metadata": {},
     "output_type": "execute_result"
    },
    {
     "data": {
      "image/png": "[encoded data removed]",
      "text/plain": [
       "<matplotlib.figure.Figure at 0x115b5c4e0>"
      ]
     },
     "metadata": {},
     "output_type": "display_data"
    }
   ],
   "source": [
    "working.plot(kind=\"bar\", figsize = (20,10))"
   ]
  },
  {
   "cell_type": "code",
   "execution_count": 31,
   "metadata": {
    "collapsed": false
   },
   "outputs": [
    {
     "data": {
      "text/plain": [
       "<matplotlib.axes._subplots.AxesSubplot at 0x117e71d30>"
      ]
     },
     "execution_count": 31,
     "metadata": {},
     "output_type": "execute_result"
    },
    {
     "data": {
      "image/png": "[encoded data removed]",
      "text/plain": [
       "<matplotlib.figure.Figure at 0x117e7d4a8>"
      ]
     },
     "metadata": {},
     "output_type": "display_data"
    }
   ],
   "source": [
    "retired.plot(kind=\"bar\", figsize = (20,10))"
   ]
  },
  {
   "cell_type": "code",
   "execution_count": null,
   "metadata": {
    "collapsed": true
   },
   "outputs": [],
   "source": []
  }
 ],
 "metadata": {
  "kernelspec": {
   "display_name": "Python 3",
   "language": "python",
   "name": "python3"
  },
  "language_info": {
   "codemirror_mode": {
    "name": "ipython",
    "version": 3
   },
   "file_extension": ".py",
   "mimetype": "text/x-python",
   "name": "python",
   "nbconvert_exporter": "python",
   "pygments_lexer": "ipython3",
   "version": "3.5.0"
  }
 },
 "nbformat": 4,
 "nbformat_minor": 0
}
